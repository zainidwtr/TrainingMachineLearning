{
  "cells": [
    {
      "cell_type": "markdown",
      "source": [
        "Unsupervised Fraud Detection: Isolation Forest"
      ],
      "metadata": {
        "id": "id35MzbW-87Y"
      },
      "id": "id35MzbW-87Y"
    },
    {
      "cell_type": "code",
      "source": [
        "##All General Import Statements \n",
        "import pandas as pd \n",
        "import numpy as np\n",
        "import math \n",
        "import random \n",
        "%matplotlib inline \n",
        "import random \n",
        "from matplotlib import pyplot \n"
      ],
      "metadata": {
        "id": "XzvBVVH1-ytk"
      },
      "id": "XzvBVVH1-ytk",
      "execution_count": 1,
      "outputs": []
    },
    {
      "cell_type": "code",
      "source": [
        "# Load your dataset here\n",
        "from google.colab import files\n",
        "uploaded = files.upload()\n",
        "print ('Data read into a pandas dataframe!')"
      ],
      "metadata": {
        "colab": {
          "resources": {
            "http://localhost:8080/nbextensions/google.colab/files.js": {
              "data": "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",
              "ok": true,
              "headers": [
                [
                  "content-type",
                  "application/javascript"
                ]
              ],
              "status": 200,
              "status_text": ""
            }
          },
          "base_uri": "https://localhost:8080/",
          "height": 55
        },
        "id": "GF69AkoTEQXa",
        "outputId": "31f09805-26bc-4d2a-e602-f58068ad9843"
      },
      "id": "GF69AkoTEQXa",
      "execution_count": null,
      "outputs": [
        {
          "output_type": "display_data",
          "data": {
            "text/plain": [
              "<IPython.core.display.HTML object>"
            ],
            "text/html": [
              "\n",
              "     <input type=\"file\" id=\"files-f7754d38-1a7e-4356-9ac2-cb9dc4c684d1\" name=\"files[]\" multiple disabled\n",
              "        style=\"border:none\" />\n",
              "     <output id=\"result-f7754d38-1a7e-4356-9ac2-cb9dc4c684d1\">\n",
              "      Upload widget is only available when the cell has been executed in the\n",
              "      current browser session. Please rerun this cell to enable.\n",
              "      </output>\n",
              "      <script src=\"/nbextensions/google.colab/files.js\"></script> "
            ]
          },
          "metadata": {}
        }
      ]
    },
    {
      "cell_type": "code",
      "source": [
        "import warnings\n",
        "warnings.filterwarnings(\"ignore\")\n",
        "\n",
        "import os\n",
        "df = pd.read_csv('creditcard.csv')\n",
        "df.head()"
      ],
      "metadata": {
        "id": "vkRVXQghEVOa"
      },
      "id": "vkRVXQghEVOa",
      "execution_count": null,
      "outputs": []
    },
    {
      "cell_type": "markdown",
      "source": [
        "Anomaly Detection Algorithms: Isolation Forest vs the Rest"
      ],
      "metadata": {
        "id": "biTf2MxU_EDI"
      },
      "id": "biTf2MxU_EDI"
    },
    {
      "cell_type": "markdown",
      "source": [
        "The below code defines classes for external and internal nodes"
      ],
      "metadata": {
        "id": "pxOH14Dx_Kd5"
      },
      "id": "pxOH14Dx_Kd5"
    },
    {
      "cell_type": "code",
      "source": [
        "class ExNode:\n",
        "    def __init__(self,size):\n",
        "        self.size=size\n",
        "        \n",
        "class InNode:\n",
        "    def __init__(self,left,right,splitAtt,splitVal):\n",
        "        self.left=left\n",
        "        self.right=right\n",
        "        self.splitAtt=splitAtt\n",
        "        self.splitVal=splitVal"
      ],
      "metadata": {
        "id": "IkQiMvhr_E54"
      },
      "id": "IkQiMvhr_E54",
      "execution_count": null,
      "outputs": []
    },
    {
      "cell_type": "markdown",
      "source": [
        "Forest"
      ],
      "metadata": {
        "id": "YgS-dS3u_P6q"
      },
      "id": "YgS-dS3u_P6q"
    },
    {
      "cell_type": "code",
      "source": [
        "def iForest(X,noOfTrees,sampleSize):\n",
        "    forest=[]\n",
        "    hlim=math.ceil(math.log(sampleSize,2))\n",
        "    for i in range(noOfTrees):\n",
        "        X_train=X.sample(sampleSize)\n",
        "        forest.append(iTree(X_train,0,hlim))\n",
        "    return forest"
      ],
      "metadata": {
        "id": "SLOX8tsm_Q2J"
      },
      "id": "SLOX8tsm_Q2J",
      "execution_count": null,
      "outputs": []
    },
    {
      "cell_type": "markdown",
      "source": [
        "Isolation Tree"
      ],
      "metadata": {
        "id": "MAQMmKPq_Upn"
      },
      "id": "MAQMmKPq_Upn"
    },
    {
      "cell_type": "code",
      "source": [
        "def iTree(X,currHeight,hlim):\n",
        "    if currHeight>=hlim or len(X)<=1:\n",
        "        return ExNode(len(X))\n",
        "    else:\n",
        "        Q=X.columns\n",
        "        q=random.choice(Q)\n",
        "        p=random.choice(X[q].unique())\n",
        "        X_l=X[X[q]<p]\n",
        "        X_r=X[X[q]>=p]\n",
        "        return InNode(iTree(X_l,currHeight+1,hlim),iTree(X_r,currHeight+1,hlim),q,p)"
      ],
      "metadata": {
        "id": "Q_uTQ_ue_Ws4"
      },
      "id": "Q_uTQ_ue_Ws4",
      "execution_count": null,
      "outputs": []
    },
    {
      "cell_type": "markdown",
      "source": [
        "Path Length"
      ],
      "metadata": {
        "id": "MaqY6JWM_ZHB"
      },
      "id": "MaqY6JWM_ZHB"
    },
    {
      "cell_type": "code",
      "source": [
        "def pathLength(x,Tree,currHeight):\n",
        "    if isinstance(Tree,ExNode):\n",
        "        return currHeight\n",
        "    a=Tree.splitAtt\n",
        "    if x[a]<Tree.splitVal:\n",
        "        return pathLength(x,Tree.left,currHeight+1)\n",
        "    else:\n",
        "        return pathLength(x,Tree.right,currHeight+1)"
      ],
      "metadata": {
        "id": "O22wOmzi_bKg"
      },
      "id": "O22wOmzi_bKg",
      "execution_count": null,
      "outputs": []
    },
    {
      "cell_type": "markdown",
      "source": [
        "TEST RUN"
      ],
      "metadata": {
        "id": "AOGQXW50_gdo"
      },
      "id": "AOGQXW50_gdo"
    },
    {
      "cell_type": "code",
      "source": [
        "df=pd.read_csv(\"../input/creditcard.csv\")\n",
        "y_true=df['Class']\n",
        "df_data=df.drop('Class',1)"
      ],
      "metadata": {
        "id": "KSJQLzyI_hyh"
      },
      "id": "KSJQLzyI_hyh",
      "execution_count": null,
      "outputs": []
    },
    {
      "cell_type": "markdown",
      "source": [
        "Next, we create the forest."
      ],
      "metadata": {
        "id": "xetUAXq7_lpA"
      },
      "id": "xetUAXq7_lpA"
    },
    {
      "cell_type": "code",
      "source": [
        "sampleSize=10000\n",
        "ifor=iForest(df_data.sample(100000),10,sampleSize) ##Forest of 10 trees"
      ],
      "metadata": {
        "id": "bIAZ6NNd_mSI"
      },
      "id": "bIAZ6NNd_mSI",
      "execution_count": null,
      "outputs": []
    },
    {
      "cell_type": "markdown",
      "source": [
        "Next, we select 1000 random datapoints and get their path lengths. The purpose for this is to plot and see if anomalies actually have shorter path lengths."
      ],
      "metadata": {
        "id": "-yWlJu1L_pwR"
      },
      "id": "-yWlJu1L_pwR"
    },
    {
      "cell_type": "code",
      "source": [
        "posLenLst=[]\n",
        "negLenLst=[]\n",
        "\n",
        "for sim in range(1000):\n",
        "    ind=random.choice(df_data[y_true==1].index)\n",
        "    for tree in ifor:\n",
        "        posLenLst.append(pathLength(df_data.iloc[ind],tree,0))\n",
        "        \n",
        "    ind=random.choice(df_data[y_true==0].index)\n",
        "    for tree in ifor:\n",
        "        negLenLst.append(pathLength(df_data.iloc[ind],tree,0))"
      ],
      "metadata": {
        "id": "fBCBn24J_sVp"
      },
      "id": "fBCBn24J_sVp",
      "execution_count": null,
      "outputs": []
    },
    {
      "cell_type": "markdown",
      "source": [
        "Finally, we plot the path lengths."
      ],
      "metadata": {
        "id": "2YklOoby_uZQ"
      },
      "id": "2YklOoby_uZQ"
    },
    {
      "cell_type": "code",
      "source": [
        "bins = np.linspace(0,math.ceil(math.log(sampleSize,2)), math.ceil(math.log(sampleSize,2)))\n",
        "\n",
        "pyplot.figure(figsize=(12,8))\n",
        "pyplot.hist(posLenLst, bins, alpha=0.5, label='Anomaly')\n",
        "pyplot.hist(negLenLst, bins, alpha=0.5, label='Normal')\n",
        "pyplot.xlabel('Path Length')\n",
        "pyplot.ylabel('Frequency')\n",
        "pyplot.legend(loc='upper left')"
      ],
      "metadata": {
        "id": "hydvFGgn_wpZ"
      },
      "id": "hydvFGgn_wpZ",
      "execution_count": null,
      "outputs": []
    },
    {
      "cell_type": "markdown",
      "source": [
        "Anomalies do seem to have a lower path length. Not bad for random division!\n",
        "\n",
        "Notes:\n",
        "The above implementation ignores three aspects of the actual algorithm fo the sake of simplicity.\n",
        "\n",
        "The average depth needs to be added to the depth once the current length hits the height limit\n",
        "The path lengths are not normalized between trees and hence the actual values are used for plotting\n",
        "The authors of the paper suggest using kurtosis to select features as a refinement over random selection\n",
        "Plotting the Data\n",
        "Using a technique called T-SNE, we can reduce the dimensions of the data and create a 2D plot. The objective here is to show that distance based anomaly detection methods might not work as well as other techniques on this dataset. This is because the positive cases are not too far away from the normal cases."
      ],
      "metadata": {
        "id": "sO7HMV0T_01y"
      },
      "id": "sO7HMV0T_01y"
    },
    {
      "cell_type": "code",
      "source": [
        "from sklearn.manifold import TSNE"
      ],
      "metadata": {
        "id": "4LlLU9gZ_1uC"
      },
      "id": "4LlLU9gZ_1uC",
      "execution_count": null,
      "outputs": []
    },
    {
      "cell_type": "code",
      "source": [
        "df_plt=df[df['Class']==0].sample(1000)\n",
        "df_plt_pos=df[df['Class']==1].sample(20)\n",
        "df_plt=pd.concat([df_plt,df_plt_pos])\n",
        "y_plt=df_plt['Class']\n",
        "X_plt=df_plt.drop('Class',1)"
      ],
      "metadata": {
        "id": "GffhFU1Z_3rQ"
      },
      "id": "GffhFU1Z_3rQ",
      "execution_count": null,
      "outputs": []
    },
    {
      "cell_type": "code",
      "source": [
        "X_embedded = TSNE(n_components=2).fit_transform(X_plt)"
      ],
      "metadata": {
        "id": "xaj91s-v_6rg"
      },
      "id": "xaj91s-v_6rg",
      "execution_count": null,
      "outputs": []
    },
    {
      "cell_type": "code",
      "source": [
        "pyplot.figure(figsize=(12,8))\n",
        "pyplot.scatter(X_embedded[:,0], X_embedded[:,1], c=y_plt, cmap=pyplot.cm.get_cmap(\"Paired\", 2))\n",
        "pyplot.colorbar(ticks=range(2))"
      ],
      "metadata": {
        "id": "Q41F8aFE_8RJ"
      },
      "id": "Q41F8aFE_8RJ",
      "execution_count": null,
      "outputs": []
    },
    {
      "cell_type": "markdown",
      "source": [
        "Time for the Real Fight!\n",
        "To keep things even, all of the algorithms are run with their default parameters.\n",
        "\n",
        "Let's start by importing the scikit-learn implementations of all 4 algorithms."
      ],
      "metadata": {
        "id": "hHrFUuOu__H3"
      },
      "id": "hHrFUuOu__H3"
    },
    {
      "cell_type": "code",
      "source": [
        "from sklearn.ensemble import IsolationForest\n",
        "from sklearn.svm import OneClassSVM\n",
        "from sklearn.neighbors import LocalOutlierFactor ## Only available with scikit-learn 0.19 and later\n",
        "from sklearn.cluster import KMeans"
      ],
      "metadata": {
        "id": "JcXwm935ABN6"
      },
      "id": "JcXwm935ABN6",
      "execution_count": null,
      "outputs": []
    },
    {
      "cell_type": "markdown",
      "source": [
        "Next, let's create a train and test dataset."
      ],
      "metadata": {
        "id": "22IjSzFkAFmf"
      },
      "id": "22IjSzFkAFmf"
    },
    {
      "cell_type": "code",
      "source": [
        "from sklearn.model_selection import train_test_split"
      ],
      "metadata": {
        "id": "yS3MYyrkAHTo"
      },
      "id": "yS3MYyrkAHTo",
      "execution_count": null,
      "outputs": []
    },
    {
      "cell_type": "code",
      "source": [
        "X_train, X_test, y_train, y_test = train_test_split(df_data, y_true, test_size=0.3, random_state=42)"
      ],
      "metadata": {
        "id": "kg4YwML-AJGQ"
      },
      "id": "kg4YwML-AJGQ",
      "execution_count": null,
      "outputs": []
    },
    {
      "cell_type": "markdown",
      "source": [
        "Finally, let's create a few helper functions that help with training and testing the models. The preprocess function is not used in this notebook but it might help improve the scores on the KMeans and One Class SVM models."
      ],
      "metadata": {
        "id": "IJutwG-fAKkb"
      },
      "id": "IJutwG-fAKkb"
    },
    {
      "cell_type": "code",
      "source": [
        "## Not required for Isolation Forest\n",
        "def preprocess(df_data):\n",
        "    for col in df_data:\n",
        "        df_data[col]=(df_data[col]-np.min(df_data[col]))/(np.max(df_data[col])-np.min(df_data[col]))\n",
        "    return"
      ],
      "metadata": {
        "id": "9tSG6WWVAO-k"
      },
      "id": "9tSG6WWVAO-k",
      "execution_count": null,
      "outputs": []
    },
    {
      "cell_type": "markdown",
      "source": [
        "**Note:** The below train and predict functions are designed to output ensemble models (bagged models), with the default size being 5 models. The Isolation Forest and One Class SVM use these functions."
      ],
      "metadata": {
        "id": "JeKerlcBAQ1J"
      },
      "id": "JeKerlcBAQ1J"
    },
    {
      "cell_type": "code",
      "source": [
        "## Not valid for LOF\n",
        "def train(X,clf,ensembleSize=5,sampleSize=10000):\n",
        "    mdlLst=[]\n",
        "    for n in range(ensembleSize):\n",
        "        X=df_data.sample(sampleSize)\n",
        "        clf.fit(X)\n",
        "        mdlLst.append(clf)\n",
        "    return mdlLst"
      ],
      "metadata": {
        "id": "wYSuY7FgAUAR"
      },
      "id": "wYSuY7FgAUAR",
      "execution_count": null,
      "outputs": []
    },
    {
      "cell_type": "code",
      "source": [
        "## Not valif for LOF\n",
        "def predict(X,mdlLst):\n",
        "    y_pred=np.zeros(X.shape[0])\n",
        "    for clf in mdlLst:\n",
        "        y_pred=np.add(y_pred,clf.decision_function(X).reshape(X.shape[0],))\n",
        "    y_pred=(y_pred*1.0)/len(mdlLst)\n",
        "    return y_pred"
      ],
      "metadata": {
        "id": "sYp2gRaBAV2i"
      },
      "id": "sYp2gRaBAV2i",
      "execution_count": null,
      "outputs": []
    },
    {
      "cell_type": "markdown",
      "source": [
        "Finally, let's import some model scoring libraries. Since, we are dealing with a heavily imbalanced dataset, F1 Score is used as a proxy for model performance."
      ],
      "metadata": {
        "id": "eRvqSCXVCMup"
      },
      "id": "eRvqSCXVCMup"
    },
    {
      "cell_type": "markdown",
      "source": [
        "For more details, refer http://scikit-learn.org/stable/modules/generated/sklearn.metrics.f1_score.html"
      ],
      "metadata": {
        "id": "J28BWbHPCN4c"
      },
      "id": "J28BWbHPCN4c"
    },
    {
      "cell_type": "code",
      "source": [
        "from sklearn.metrics import roc_auc_score\n",
        "from sklearn.metrics import confusion_matrix,f1_score"
      ],
      "metadata": {
        "id": "06pqLdeACPWQ"
      },
      "id": "06pqLdeACPWQ",
      "execution_count": null,
      "outputs": []
    },
    {
      "cell_type": "markdown",
      "source": [
        "Isolation Forest"
      ],
      "metadata": {
        "id": "wLc2MwViCUPo"
      },
      "id": "wLc2MwViCUPo"
    },
    {
      "cell_type": "code",
      "source": [
        "alg=IsolationForest(n_estimators=100, max_samples='auto', contamination=0.01, \\\n",
        "                        max_features=1.0, bootstrap=False, n_jobs=-1, random_state=42, verbose=0,behaviour=\"new\")"
      ],
      "metadata": {
        "id": "y88ntfdSCVJD"
      },
      "id": "y88ntfdSCVJD",
      "execution_count": null,
      "outputs": []
    },
    {
      "cell_type": "markdown",
      "source": [
        "Note: The magic function timeit does not let us use any variable that is created in the timeit cell. Hence, every cell with a timeit magic function will have a corresponding regular cell with the same code."
      ],
      "metadata": {
        "id": "cZNjbf8WCYRP"
      },
      "id": "cZNjbf8WCYRP"
    },
    {
      "cell_type": "code",
      "source": [
        "%%timeit\n",
        "if_mdlLst=train(X_train,alg)"
      ],
      "metadata": {
        "id": "WhEY2JJoCbdX"
      },
      "id": "WhEY2JJoCbdX",
      "execution_count": null,
      "outputs": []
    },
    {
      "cell_type": "code",
      "source": [
        "if_mdlLst=train(X_train,alg)"
      ],
      "metadata": {
        "id": "UIqTJ1OqCdzn"
      },
      "id": "UIqTJ1OqCdzn",
      "execution_count": null,
      "outputs": []
    },
    {
      "cell_type": "code",
      "source": [
        "%%timeit\n",
        "if_y_pred=predict(X_test,if_mdlLst)\n",
        "if_y_pred=1-if_y_pred\n",
        "\n",
        "#Creating class labels based on decision function\n",
        "if_y_pred_class=if_y_pred.copy()\n",
        "if_y_pred_class[if_y_pred>=np.percentile(if_y_pred,95)]=1\n",
        "if_y_pred_class[if_y_pred<np.percentile(if_y_pred,95)]=0"
      ],
      "metadata": {
        "id": "OWE5rKoOCgVf"
      },
      "id": "OWE5rKoOCgVf",
      "execution_count": null,
      "outputs": []
    },
    {
      "cell_type": "code",
      "source": [
        "if_y_pred=predict(X_test,if_mdlLst)\n",
        "if_y_pred=1-if_y_pred\n",
        "\n",
        "#Creating class labels based on decision function\n",
        "if_y_pred_class=if_y_pred.copy()\n",
        "if_y_pred_class[if_y_pred>=np.percentile(if_y_pred,95)]=1\n",
        "if_y_pred_class[if_y_pred<np.percentile(if_y_pred,95)]=0"
      ],
      "metadata": {
        "id": "Y25PYg9kCiWf"
      },
      "id": "Y25PYg9kCiWf",
      "execution_count": null,
      "outputs": []
    },
    {
      "cell_type": "code",
      "source": [
        "roc_auc_score(y_test, if_y_pred_class)"
      ],
      "metadata": {
        "id": "Y9vAkvIMCjD3"
      },
      "id": "Y9vAkvIMCjD3",
      "execution_count": null,
      "outputs": []
    },
    {
      "cell_type": "code",
      "source": [
        "f1_score(y_test, if_y_pred_class)"
      ],
      "metadata": {
        "id": "AfkeM4xgCl7h"
      },
      "id": "AfkeM4xgCl7h",
      "execution_count": null,
      "outputs": []
    },
    {
      "cell_type": "code",
      "source": [
        "if_cm=confusion_matrix(y_test, if_y_pred_class)"
      ],
      "metadata": {
        "id": "aye1g-I_Cnvu"
      },
      "id": "aye1g-I_Cnvu",
      "execution_count": null,
      "outputs": []
    },
    {
      "cell_type": "code",
      "source": [
        "import seaborn as sn\n",
        "     \n",
        "df_cm = pd.DataFrame(if_cm,\n",
        "                  ['True Normal','True Fraud'],['Pred Normal','Pred Fraud'])\n",
        "pyplot.figure(figsize = (8,4))\n",
        "sn.set(font_scale=1.4)#for label size\n",
        "sn.heatmap(df_cm, annot=True,annot_kws={\"size\": 16},fmt='g')# font size"
      ],
      "metadata": {
        "id": "Cay4PGg9CqIp"
      },
      "id": "Cay4PGg9CqIp",
      "execution_count": null,
      "outputs": []
    },
    {
      "cell_type": "markdown",
      "source": [
        "KMeans\n",
        "The top 5% of the farthest point from cluster centers are itentified as fraud (outliers)"
      ],
      "metadata": {
        "id": "9CsSxvTXCtFE"
      },
      "id": "9CsSxvTXCtFE"
    },
    {
      "cell_type": "code",
      "source": [
        "%%timeit\n",
        "\n",
        "kmeans = KMeans(n_clusters=8, random_state=42,n_jobs=-1).fit(X_train)"
      ],
      "metadata": {
        "id": "SyO0Dn12Ct-C"
      },
      "id": "SyO0Dn12Ct-C",
      "execution_count": null,
      "outputs": []
    },
    {
      "cell_type": "code",
      "source": [
        "kmeans = KMeans(n_clusters=8, random_state=42,n_jobs=-1).fit(X_train)"
      ],
      "metadata": {
        "id": "4vn87SuMCyDS"
      },
      "id": "4vn87SuMCyDS",
      "execution_count": null,
      "outputs": []
    },
    {
      "cell_type": "code",
      "source": [
        "%%timeit\n",
        "X_test_clusters=kmeans.predict(X_test)\n",
        "X_test_clusters_centers=kmeans.cluster_centers_\n",
        "dist = [np.linalg.norm(x-y) for x,y in zip(X_test.values,X_test_clusters_centers[X_test_clusters])]\n",
        "\n",
        "km_y_pred=np.array(dist)\n",
        "km_y_pred[dist>=np.percentile(dist,95)]=1\n",
        "km_y_pred[dist<np.percentile(dist,95)]=0"
      ],
      "metadata": {
        "id": "yHg46ctYCz6Q"
      },
      "id": "yHg46ctYCz6Q",
      "execution_count": null,
      "outputs": []
    },
    {
      "cell_type": "code",
      "source": [
        "X_test_clusters=kmeans.predict(X_test)\n",
        "X_test_clusters_centers=kmeans.cluster_centers_\n",
        "dist = [np.linalg.norm(x-y) for x,y in zip(X_test.values,X_test_clusters_centers[X_test_clusters])]\n",
        "\n",
        "km_y_pred=np.array(dist)\n",
        "km_y_pred[dist>=np.percentile(dist,95)]=1\n",
        "km_y_pred[dist<np.percentile(dist,95)]=0"
      ],
      "metadata": {
        "id": "3tk7JpZTC1sR"
      },
      "id": "3tk7JpZTC1sR",
      "execution_count": null,
      "outputs": []
    },
    {
      "cell_type": "code",
      "source": [
        "roc_auc_score(y_test, km_y_pred)"
      ],
      "metadata": {
        "id": "GcJPh5ZIC3XD"
      },
      "id": "GcJPh5ZIC3XD",
      "execution_count": null,
      "outputs": []
    },
    {
      "cell_type": "code",
      "source": [
        "f1_score(y_test, km_y_pred)"
      ],
      "metadata": {
        "id": "hyFx93QrC48K"
      },
      "id": "hyFx93QrC48K",
      "execution_count": null,
      "outputs": []
    },
    {
      "cell_type": "code",
      "source": [
        "km_cm=confusion_matrix(y_test, km_y_pred)"
      ],
      "metadata": {
        "id": "zJeDDY_LC61B"
      },
      "id": "zJeDDY_LC61B",
      "execution_count": null,
      "outputs": []
    },
    {
      "cell_type": "code",
      "source": [
        "df_cm = pd.DataFrame(km_cm,\n",
        "                  ['True Normal','True Fraud'],['Pred Normal','Pred Fraud'])\n",
        "pyplot.figure(figsize = (8,4))\n",
        "sn.set(font_scale=1.4)#for label size\n",
        "sn.heatmap(df_cm, annot=True,annot_kws={\"size\": 16},fmt='g')# font size"
      ],
      "metadata": {
        "id": "CTFrJyC_C8xJ"
      },
      "id": "CTFrJyC_C8xJ",
      "execution_count": null,
      "outputs": []
    },
    {
      "cell_type": "markdown",
      "source": [
        "LOF\n",
        "\n",
        "Local Outlier Factor only looks at the local neighbourhood of a data point and hence cannot make predictions on out of sample data points. Hence we work directly with X_test here."
      ],
      "metadata": {
        "id": "61zE5Up4C_Xb"
      },
      "id": "61zE5Up4C_Xb"
    },
    {
      "cell_type": "code",
      "source": [
        "clf=LocalOutlierFactor(n_neighbors=20, algorithm='auto', leaf_size=30, \\\n",
        "                   metric='minkowski', p=2, metric_params=None, contamination=0.1, n_jobs=-1)"
      ],
      "metadata": {
        "id": "ZhyRDmoXDCJx"
      },
      "id": "ZhyRDmoXDCJx",
      "execution_count": null,
      "outputs": []
    },
    {
      "cell_type": "code",
      "source": [
        "%%timeit\n",
        "clf.fit(X_test)"
      ],
      "metadata": {
        "id": "kG7W6Gl4DFXr"
      },
      "id": "kG7W6Gl4DFXr",
      "execution_count": null,
      "outputs": []
    },
    {
      "cell_type": "code",
      "source": [
        "clf.fit(X_test)"
      ],
      "metadata": {
        "id": "LqTL2J_aDHBx"
      },
      "id": "LqTL2J_aDHBx",
      "execution_count": null,
      "outputs": []
    },
    {
      "cell_type": "code",
      "source": [
        "%%timeit\n",
        "lof_y_pred=clf.negative_outlier_factor_\n",
        "\n",
        "#Creating class labels based on decision function\n",
        "lof_y_pred_class=lof_y_pred.copy()\n",
        "lof_y_pred_class[lof_y_pred>=np.percentile(lof_y_pred,95)]=1\n",
        "lof_y_pred_class[lof_y_pred<np.percentile(lof_y_pred,95)]=0"
      ],
      "metadata": {
        "id": "-nF5iipnDJAn"
      },
      "id": "-nF5iipnDJAn",
      "execution_count": null,
      "outputs": []
    },
    {
      "cell_type": "code",
      "source": [
        "lof_y_pred=clf.negative_outlier_factor_\n",
        "\n",
        "#Creating class labels based on decision function\n",
        "lof_y_pred_class=lof_y_pred.copy()\n",
        "lof_y_pred_class[lof_y_pred>=np.percentile(lof_y_pred,95)]=1\n",
        "lof_y_pred_class[lof_y_pred<np.percentile(lof_y_pred,95)]=0"
      ],
      "metadata": {
        "id": "JnIvrOOtDK9Y"
      },
      "id": "JnIvrOOtDK9Y",
      "execution_count": null,
      "outputs": []
    },
    {
      "cell_type": "code",
      "source": [
        "roc_auc_score(y_test, lof_y_pred_class)"
      ],
      "metadata": {
        "id": "76UEQz6EDMhB"
      },
      "id": "76UEQz6EDMhB",
      "execution_count": null,
      "outputs": []
    },
    {
      "cell_type": "code",
      "source": [
        "f1_score(y_test, lof_y_pred_class)"
      ],
      "metadata": {
        "id": "rGzFokDWDOAr"
      },
      "id": "rGzFokDWDOAr",
      "execution_count": null,
      "outputs": []
    },
    {
      "cell_type": "code",
      "source": [
        "lof_cm=confusion_matrix(y_test, lof_y_pred_class)"
      ],
      "metadata": {
        "id": "SKnnucGVDPvI"
      },
      "id": "SKnnucGVDPvI",
      "execution_count": null,
      "outputs": []
    },
    {
      "cell_type": "code",
      "source": [
        "df_cm = pd.DataFrame(lof_cm,\n",
        "                  ['True Normal','True Fraud'],['Pred Normal','Pred Fraud'])\n",
        "pyplot.figure(figsize = (8,4))\n",
        "sn.set(font_scale=1.4)#for label size\n",
        "sn.heatmap(df_cm, annot=True,annot_kws={\"size\": 16},fmt='g')# font size"
      ],
      "metadata": {
        "id": "YTMZZ2jTDRd5"
      },
      "id": "YTMZZ2jTDRd5",
      "execution_count": null,
      "outputs": []
    },
    {
      "cell_type": "markdown",
      "source": [
        "One-Class SVM*\n",
        "\n",
        "*Any kernel except linear will take a while. Feel free to grab a coffee, if you decide to change the kernel type"
      ],
      "metadata": {
        "id": "t33R7CvQDUc5"
      },
      "id": "t33R7CvQDUc5"
    },
    {
      "cell_type": "code",
      "source": [
        "alg=OneClassSVM(kernel='linear',gamma='auto', coef0=0.0, tol=0.001, nu=0.5, \\\n",
        "                shrinking=True, cache_size=500, verbose=False, max_iter=-1)"
      ],
      "metadata": {
        "id": "UDfMP99KDW7A"
      },
      "id": "UDfMP99KDW7A",
      "execution_count": null,
      "outputs": []
    },
    {
      "cell_type": "code",
      "source": [
        "%%timeit\n",
        "osvm_mdlLst=train(X_train,alg)"
      ],
      "metadata": {
        "id": "wXXr11lsDYoU"
      },
      "id": "wXXr11lsDYoU",
      "execution_count": null,
      "outputs": []
    },
    {
      "cell_type": "code",
      "source": [
        "osvm_mdlLst=train(X_train,alg)"
      ],
      "metadata": {
        "id": "3q7GzN2xDbPj"
      },
      "id": "3q7GzN2xDbPj",
      "execution_count": null,
      "outputs": []
    },
    {
      "cell_type": "code",
      "source": [
        "%%timeit\n",
        "osvm_y_pred=predict(X_test,osvm_mdlLst)\n",
        "\n",
        "#Creating class labels based on decision function\n",
        "osvm_y_pred_class=osvm_y_pred.copy()\n",
        "osvm_y_pred_class[osvm_y_pred<0]=1\n",
        "osvm_y_pred_class[osvm_y_pred>=0]=0"
      ],
      "metadata": {
        "id": "KNjZvnvTDdE5"
      },
      "id": "KNjZvnvTDdE5",
      "execution_count": null,
      "outputs": []
    },
    {
      "cell_type": "code",
      "source": [
        "osvm_y_pred=predict(X_test,osvm_mdlLst)\n",
        "\n",
        "#Creating class labels based on decision function\n",
        "osvm_y_pred_class=osvm_y_pred.copy()\n",
        "osvm_y_pred_class[osvm_y_pred<0]=1\n",
        "osvm_y_pred_class[osvm_y_pred>=0]=0"
      ],
      "metadata": {
        "id": "rVcJdyXtDew6"
      },
      "id": "rVcJdyXtDew6",
      "execution_count": null,
      "outputs": []
    },
    {
      "cell_type": "code",
      "source": [
        "roc_auc_score(y_test, osvm_y_pred_class)"
      ],
      "metadata": {
        "id": "S8lItCDBDghK"
      },
      "id": "S8lItCDBDghK",
      "execution_count": null,
      "outputs": []
    },
    {
      "cell_type": "code",
      "source": [
        "f1_score(y_test, osvm_y_pred_class)"
      ],
      "metadata": {
        "id": "zMzPYlWsDiBz"
      },
      "id": "zMzPYlWsDiBz",
      "execution_count": null,
      "outputs": []
    },
    {
      "cell_type": "code",
      "source": [
        "osvm_cm=confusion_matrix(y_test, osvm_y_pred_class)"
      ],
      "metadata": {
        "id": "0PCnWCG6Djg5"
      },
      "id": "0PCnWCG6Djg5",
      "execution_count": null,
      "outputs": []
    },
    {
      "cell_type": "code",
      "source": [
        "df_cm = pd.DataFrame(osvm_cm,\n",
        "                  ['True Normal','True Fraud'],['Pred Normal','Pred Fraud'])\n",
        "pyplot.figure(figsize = (8,4))\n",
        "sn.set(font_scale=1.4)#for label size\n",
        "sn.heatmap(df_cm, annot=True,annot_kws={\"size\": 16},fmt='g')# font size"
      ],
      "metadata": {
        "id": "Ulr8D7DvDlZi"
      },
      "id": "Ulr8D7DvDlZi",
      "execution_count": null,
      "outputs": []
    },
    {
      "cell_type": "markdown",
      "source": [
        "Conclusion"
      ],
      "metadata": {
        "id": "O-GG2GJ1Dnvk"
      },
      "id": "O-GG2GJ1Dnvk"
    },
    {
      "cell_type": "code",
      "source": [
        "## Performance Plot\n",
        "train_times={\n",
        "    'Isolation Forest': 4.38,\n",
        "    'KMeans':20.9,\n",
        "    'LOF':2.06,\n",
        "    'OneClass SVM': 21.4\n",
        "}\n",
        "\n",
        "prediction_times={\n",
        "    'Isolation Forest':34.2,\n",
        "    'KMeans':0.052,\n",
        "    'LOF':0.00368,\n",
        "    'OneClass SVM': 71\n",
        "}"
      ],
      "metadata": {
        "id": "OjbuSILeDozR"
      },
      "id": "OjbuSILeDozR",
      "execution_count": null,
      "outputs": []
    },
    {
      "cell_type": "code",
      "source": [
        "pyplot.title('Training Time')\n",
        "pyplot.barh(range(len(train_times)), list(train_times.values()), align='center')\n",
        "pyplot.yticks(range(len(train_times)), list(train_times.keys()))\n",
        "pyplot.xlabel('Time in seconds')"
      ],
      "metadata": {
        "id": "DHb8UGxVDsn6"
      },
      "id": "DHb8UGxVDsn6",
      "execution_count": null,
      "outputs": []
    },
    {
      "cell_type": "markdown",
      "source": [
        "Isolation forest has the 2nd fastest training time. This is very impressive considering that our model is actually an ensemble of 5 Isolation forest models"
      ],
      "metadata": {
        "id": "Mc44vKx_DvQl"
      },
      "id": "Mc44vKx_DvQl"
    },
    {
      "cell_type": "code",
      "source": [
        "pyplot.title('Prediction Time')\n",
        "pyplot.barh(range(len(prediction_times)), list(prediction_times.values()), align='center')\n",
        "pyplot.yticks(range(len(prediction_times)), list(prediction_times.keys()))\n",
        "pyplot.xlabel('Time in seconds')"
      ],
      "metadata": {
        "id": "Dqo0VDIxDvxr"
      },
      "id": "Dqo0VDIxDvxr",
      "execution_count": null,
      "outputs": []
    },
    {
      "cell_type": "markdown",
      "source": [
        "The algorithm doesn't fare so well but this might be due to the over head of the ensemble structure."
      ],
      "metadata": {
        "id": "CSCdqgYZDywy"
      },
      "id": "CSCdqgYZDywy"
    },
    {
      "cell_type": "code",
      "source": [
        "## Performance Plot\n",
        "auc_scores={\n",
        "    'Isolation Forest': roc_auc_score(y_test, if_y_pred_class),\n",
        "    'KMeans':roc_auc_score(y_test, km_y_pred),\n",
        "    'LOF':roc_auc_score(y_test, lof_y_pred_class),\n",
        "    'OneClass SVM': roc_auc_score(y_test, osvm_y_pred_class)\n",
        "}\n",
        "\n",
        "f1_scores={\n",
        "    'Isolation Forest':f1_score(y_test, if_y_pred_class),\n",
        "    'KMeans':f1_score(y_test, km_y_pred),\n",
        "    'LOF':f1_score(y_test, lof_y_pred_class),\n",
        "    'OneClass SVM': f1_score(y_test, osvm_y_pred_class)\n",
        "}"
      ],
      "metadata": {
        "id": "1Zmfz8pnD04K"
      },
      "id": "1Zmfz8pnD04K",
      "execution_count": null,
      "outputs": []
    },
    {
      "cell_type": "code",
      "source": [
        "pyplot.title('AUC Scores')\n",
        "pyplot.barh(range(len(auc_scores)), list(auc_scores.values()), align='center')\n",
        "pyplot.yticks(range(len(auc_scores)), list(auc_scores.keys()))\n",
        "pyplot.xlabel('AUC Score')"
      ],
      "metadata": {
        "id": "8DZhZOSND2aJ"
      },
      "id": "8DZhZOSND2aJ",
      "execution_count": null,
      "outputs": []
    },
    {
      "cell_type": "code",
      "source": [
        "pyplot.title('F1 Scores')\n",
        "pyplot.barh(range(len(f1_scores)), list(f1_scores.values()), align='center')\n",
        "pyplot.yticks(range(len(f1_scores)), list(f1_scores.keys()))\n",
        "pyplot.xlabel('F1 Score')"
      ],
      "metadata": {
        "id": "Oi_bCZC_D4Iy"
      },
      "id": "Oi_bCZC_D4Iy",
      "execution_count": null,
      "outputs": []
    }
  ],
  "nbformat": 4,
  "nbformat_minor": 5,
  "metadata": {
    "colab": {
      "provenance": [],
      "collapsed_sections": []
    },
    "language_info": {
      "name": "python"
    },
    "kernelspec": {
      "name": "python3",
      "display_name": "Python 3"
    },
    "gpuClass": "standard"
  }
}